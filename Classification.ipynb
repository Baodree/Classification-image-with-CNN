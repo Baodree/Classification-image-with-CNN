{
 "cells": [
  {
   "cell_type": "markdown",
   "id": "6ee888d4",
   "metadata": {
    "id": "6ee888d4"
   },
   "source": [
    "Imports"
   ]
  },
  {
   "cell_type": "code",
   "execution_count": 1,
   "id": "b25421f7",
   "metadata": {
    "id": "b25421f7"
   },
   "outputs": [],
   "source": [
    "# Data\n",
    "from keras.datasets import fashion_mnist\n",
    "import numpy as np\n",
    "import tensorflow.keras as keras\n",
    "import matplotlib.pyplot as plt\n",
    "import tensorflow as tf"
   ]
  },
  {
   "cell_type": "code",
   "execution_count": 2,
   "id": "cb86cceb",
   "metadata": {
    "id": "cb86cceb"
   },
   "outputs": [],
   "source": [
    "# Load data from Fashion MNIST\n",
    "(train_images, train_labels), (test_images, test_labels) = fashion_mnist.load_data()"
   ]
  },
  {
   "cell_type": "code",
   "execution_count": 3,
   "id": "0256b19a",
   "metadata": {},
   "outputs": [],
   "source": [
    "# List all class names \n",
    "class_names = ['T-shirt/top', 'Trouser', 'Pullover', 'Dress', 'Coat',\n",
    "               'Sandal', 'Shirt', 'Sneaker', 'Bag', 'Ankle boot']"
   ]
  },
  {
   "cell_type": "code",
   "execution_count": 4,
   "id": "3a31493e",
   "metadata": {
    "colab": {
     "base_uri": "https://localhost:8080/",
     "height": 328
    },
    "id": "3a31493e",
    "outputId": "82b30ce3-99ce-46c9-df8a-46f8421035f3"
   },
   "outputs": [],
   "source": [
    "# Load model\n",
    "model = keras.models.load_model('Model_Fashion_Mnist.h5')"
   ]
  },
  {
   "cell_type": "markdown",
   "id": "230fd11f",
   "metadata": {},
   "source": [
    "Predict image"
   ]
  },
  {
   "cell_type": "code",
   "execution_count": 5,
   "id": "4eaae68a",
   "metadata": {},
   "outputs": [
    {
     "data": {
      "text/plain": [
       "804"
      ]
     },
     "execution_count": 5,
     "metadata": {},
     "output_type": "execute_result"
    }
   ],
   "source": [
    "# Random number \n",
    "import random\n",
    "random.randrange(0,59999,)"
   ]
  },
  {
   "cell_type": "code",
   "execution_count": 7,
   "id": "a9660212",
   "metadata": {},
   "outputs": [
    {
     "data": {
      "image/png": "[encoded data removed]",
      "text/plain": [
       "<Figure size 640x480 with 1 Axes>"
      ]
     },
     "metadata": {},
     "output_type": "display_data"
    },
    {
     "name": "stdout",
     "output_type": "stream",
     "text": [
      "1/1 [==============================] - 0s 18ms/step\n",
      "Product Type: Sneaker\n"
     ]
    }
   ],
   "source": [
    "# Predict random image\n",
    "import cv2\n",
    "import numpy as np\n",
    "\n",
    "img = cv2.imread(\"train/804.png\",0)\n",
    "img = cv2.resize(img, (28, 28))\n",
    "plt.imshow(img,cmap = 'gray')\n",
    "plt.show()\n",
    "img = np.reshape(img, [1, 28, 28, 1])\n",
    "y_pre = model.predict(img)\n",
    "y_hat = np.argmax(y_pre) \n",
    "product = class_names[int(y_hat)]\n",
    "print(\"Product Type:\", product)"
   ]
  },
  {
   "cell_type": "code",
   "execution_count": null,
   "id": "f973cff8",
   "metadata": {},
   "outputs": [],
   "source": []
  }
 ],
 "metadata": {
  "colab": {
   "provenance": []
  },
  "kernelspec": {
   "display_name": "Python 3 (ipykernel)",
   "language": "python",
   "name": "python3"
  },
  "language_info": {
   "codemirror_mode": {
    "name": "ipython",
    "version": 3
   },
   "file_extension": ".py",
   "mimetype": "text/x-python",
   "name": "python",
   "nbconvert_exporter": "python",
   "pygments_lexer": "ipython3",
   "version": "3.10.8"
  }
 },
 "nbformat": 4,
 "nbformat_minor": 5
}
